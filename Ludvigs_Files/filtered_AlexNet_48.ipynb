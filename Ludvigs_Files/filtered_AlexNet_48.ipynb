{
 "cells": [
  {
   "cell_type": "code",
   "execution_count": 1,
   "metadata": {},
   "outputs": [],
   "source": [
    "import torch\n",
    "import torchvision\n",
    "import torch.nn as nn\n",
    "import torch.nn.functional as F\n",
    "import torchvision.transforms as T\n",
    "import torch.optim as optim\n",
    "from torch.optim import lr_scheduler\n",
    "from torchvision import datasets, models, transforms\n",
    "import torchvision.utils as vutils\n",
    "from torch.utils.data import WeightedRandomSampler, DataLoader, Dataset\n",
    "\n",
    "from PIL import Image\n",
    "import matplotlib.pyplot as plt\n",
    "import numpy as np\n",
    "import random\n",
    "import pandas as pd\n",
    "import time\n",
    "\n",
    "import seaborn as sns\n",
    "from scipy import ndimage"
   ]
  },
  {
   "cell_type": "code",
   "execution_count": 2,
   "metadata": {},
   "outputs": [
    {
     "name": "stdout",
     "output_type": "stream",
     "text": [
      "running on: cuda:0\n"
     ]
    }
   ],
   "source": [
    "device = 'cuda:0' if torch.cuda.is_available() else 'cpu'\n",
    "print('running on:', device)"
   ]
  },
  {
   "cell_type": "code",
   "execution_count": 3,
   "metadata": {},
   "outputs": [],
   "source": [
    "SOURCE_IMG_SIZE = 48\n",
    "IMG_SIZE = 48\n",
    "\n",
    "CLASSES = ['neutral', 'happy', 'surprised', 'sad', 'angry'] #, 'disgusted', 'afraid'\n",
    "NUM_CLASSES = len(CLASSES)"
   ]
  },
  {
   "cell_type": "markdown",
   "metadata": {},
   "source": [
    "## Pre-processing"
   ]
  },
  {
   "cell_type": "code",
   "execution_count": 4,
   "metadata": {},
   "outputs": [
    {
     "name": "stdout",
     "output_type": "stream",
     "text": [
      "number of images: 35887\n",
      "after removing images with unknown/unsure classification: 26811\n"
     ]
    }
   ],
   "source": [
    "df_fer = pd.read_csv('../data/fer2013.csv').iloc[:, 1:]\n",
    "df_ferplus = pd.read_csv('../data/ferplus2013.csv').iloc[:, [2, 3, 4, 5, 6]] # Change this if size of classes is changed\n",
    "df = df_fer.join(df_ferplus)\n",
    "# df.head(15)\n",
    "\n",
    "df['emotion'] = df.iloc[:, 2:].idxmax(axis=1).tolist()\n",
    "df = df.replace(dict(zip(pd.Series(CLASSES),pd.Series(CLASSES).index)))\n",
    "# df.head(15)\n",
    "\n",
    "print('number of images:', df.shape[0])\n",
    "df = df[(df.iloc[:, 2:-1].max(axis=1) > 5)]\n",
    "print('after removing images with unknown/unsure classification:', df.shape[0])\n",
    "# df.head(15)\n",
    "\n",
    "df = df.iloc[:, [0, 1, -1]]\n",
    "# df.head(15)"
   ]
  },
  {
   "cell_type": "code",
   "execution_count": 5,
   "metadata": {},
   "outputs": [],
   "source": [
    "# ---- Normal Dataset ----\n",
    "transform = transforms.Compose([\n",
    "    transforms.Resize((IMG_SIZE, IMG_SIZE)),\n",
    "    transforms.ToTensor()\n",
    "])\n",
    "\n",
    "images_np = np.array(df['pixels'])\n",
    "label_np = np.array(df['emotion'])\n",
    "\n",
    "images = []\n",
    "images_raw = []\n",
    "labels = []\n",
    "\n",
    "for i in range(df.shape[0]):\n",
    "    b = bytes(int(p) for p in images_np[i].split())\n",
    "    img = Image.frombuffer('L', (SOURCE_IMG_SIZE, SOURCE_IMG_SIZE), b)\n",
    "    images.append(transform(img))\n",
    "    images_raw.append(img)\n",
    "    labels.append(label_np[i])\n",
    "\n",
    "# ---- Large Dataset ----\n",
    "# transform = transforms.Compose([\n",
    "#     transforms.Resize((IMG_SIZE, IMG_SIZE)),\n",
    "#     transforms.ToTensor(),\n",
    "#     transforms.RandomRotation(30),\n",
    "# ])\n",
    "\n",
    "# images_np = np.array(df['pixels'])\n",
    "# label_np = np.array(df['emotion'])\n",
    "\n",
    "# images = []\n",
    "# images_raw = []\n",
    "# labels = []\n",
    "\n",
    "# for i in range(df.shape[0]):\n",
    "#     for j in range(4):\n",
    "#         b = bytes(int(p) for p in images_np[i].split())\n",
    "#         img = Image.frombuffer('L', (SOURCE_IMG_SIZE, SOURCE_IMG_SIZE), b)\n",
    "#         transformed_img = transform(img)\n",
    "#         transformed_img[transformed_img == 0] = 0.5\n",
    "#         images.append(transformed_img)\n",
    "\n",
    "#         images_raw.append(img)\n",
    "#         labels.append(label_np[i])"
   ]
  },
  {
   "cell_type": "markdown",
   "metadata": {},
   "source": [
    "## Filtering"
   ]
  },
  {
   "cell_type": "code",
   "execution_count": 6,
   "metadata": {},
   "outputs": [],
   "source": [
    "kirsch_compass_masks = [\n",
    "    np.array([[-3,-3,5],[-3,0,5],[-3,-3,5]]),   # north\n",
    "    np.array([[-3,-3,-3],[-3,0,5],[-3,5,5]]),   # north-east\n",
    "    np.array([[-3,-3,-3],[-3,0,-3],[5,5,5]]),   # east\n",
    "    np.array([[-3,-3,-3],[5,0,-3],[5,5,-3]]),   # south-east\n",
    "    # np.array([[5,-3,-3],[5,0,-3],[5,-3,-3]]),   # south\n",
    "    # np.array([[5,5,-3],[5,0,-3],[-3,-3,-3]]),   # south-west \n",
    "    # np.array([[5,5,5],[-3,0,-3],[-3,-3,-3]]),   # west\n",
    "    # np.array([[-3,5,5],[-3,0,5],[-3,-3,-3]]),   # north-west\n",
    "]"
   ]
  },
  {
   "cell_type": "code",
   "execution_count": 7,
   "metadata": {},
   "outputs": [],
   "source": [
    "images_filtered = []\n",
    "\n",
    "transform = transforms.Compose([\n",
    "    transforms.ToTensor()\n",
    "])\n",
    "\n",
    "for i in range(len(images)):\n",
    "    img = images[i].squeeze(0)\n",
    "\n",
    "    filtered = np.zeros_like(img)\n",
    "    for cm in kirsch_compass_masks:\n",
    "        k = ndimage.convolve(img, cm, mode='nearest', cval=0.0)\n",
    "        filtered = np.add(filtered, k)\n",
    "\n",
    "    filtered = transform(filtered)\n",
    "    images_filtered.append(filtered)"
   ]
  },
  {
   "cell_type": "code",
   "execution_count": 8,
   "metadata": {},
   "outputs": [
    {
     "data": {
      "text/plain": [
       "<matplotlib.image.AxesImage at 0x15d6b6d0610>"
      ]
     },
     "execution_count": 8,
     "metadata": {},
     "output_type": "execute_result"
    },
    {
     "data": {
      "image/png": "[encoded data removed]",
      "text/plain": [
       "<Figure size 360x360 with 1 Axes>"
      ]
     },
     "metadata": {
      "needs_background": "light"
     },
     "output_type": "display_data"
    }
   ],
   "source": [
    "img = images_filtered[random.randint(0, len(images_filtered)-1)]\n",
    "\n",
    "plt.figure(figsize=(5,5))\n",
    "plt.title('kirsch')\n",
    "plt.axis('off')\n",
    "plt.imshow(img.permute(1,2,0), cmap='gray')"
   ]
  },
  {
   "cell_type": "code",
   "execution_count": 9,
   "metadata": {},
   "outputs": [
    {
     "name": "stdout",
     "output_type": "stream",
     "text": [
      "\u001b[4mclass              #images\u001b[0m\n",
      "neutral               9494\n",
      "happy                 8802\n",
      "surprised             3461\n",
      "sad                   2958\n",
      "angry                 2096\n"
     ]
    }
   ],
   "source": [
    "label_counts = [0]*NUM_CLASSES\n",
    "\n",
    "for i in range(len(labels)):\n",
    "    label_counts[labels[i]] += 1\n",
    "\n",
    "print('\\033[4m{: <15} {: >10}\\033[0m'.format('class', '#images'))\n",
    "for i in range(NUM_CLASSES):\n",
    "    print('{: <15} {: >10}'.format(CLASSES[i], label_counts[i]))"
   ]
  },
  {
   "cell_type": "code",
   "execution_count": 10,
   "metadata": {},
   "outputs": [
    {
     "name": "stdout",
     "output_type": "stream",
     "text": [
      "train length: 21448 (80.0%)\n",
      "test length: 5363 (20.0%)\n"
     ]
    }
   ],
   "source": [
    "train_split_pct = 0.8\n",
    "train_len = int(len(labels) * train_split_pct)\n",
    "\n",
    "train_images = images_filtered[:train_len]\n",
    "train_labels = labels[:train_len]\n",
    "test_images = images_filtered[train_len:]\n",
    "test_labels = labels[train_len:]\n",
    "\n",
    "print(f'train length: {len(train_labels)} ({len(train_labels)*100/len(labels):.1f}%)')\n",
    "print(f'test length: {len(test_labels)} ({len(test_labels)*100/len(labels):.1f}%)')"
   ]
  },
  {
   "cell_type": "code",
   "execution_count": 11,
   "metadata": {},
   "outputs": [
    {
     "name": "stdout",
     "output_type": "stream",
     "text": [
      "get_loader():\n",
      "  class weights: [ 2.848  3.015  7.771  8.963 12.991] \n",
      "\n",
      "get_loader():\n",
      "  class weights: [ 2.732  3.175  7.65   9.492 12.052] \n",
      "\n"
     ]
    }
   ],
   "source": [
    "BATCH_SIZE = 32\n",
    "\n",
    "\n",
    "class CustomDataset(Dataset):\n",
    "    \n",
    "    def __init__(self, images, labels):      \n",
    "        self.images = images\n",
    "        self.labels = labels\n",
    "\n",
    "    def __len__(self):\n",
    "        return len(self.labels)\n",
    "\n",
    "    def __getitem__(self, idx):\n",
    "        return self.images[idx], self.labels[idx]\n",
    "\n",
    "\n",
    "train_dataset = CustomDataset(train_images, train_labels)\n",
    "test_dataset = CustomDataset(test_images, test_labels)\n",
    "\n",
    "\n",
    "def get_loader(dataset):\n",
    "    print('get_loader():')\n",
    "\n",
    "    label_counts = [0]*NUM_CLASSES\n",
    "    for i in range(len(dataset.labels)):\n",
    "        label_counts[dataset.labels[i]] += 1\n",
    "\n",
    "    class_weights = pow(np.array(label_counts) / sum(label_counts), -1)\n",
    "    print('  class weights:', class_weights.round(3), '\\n')\n",
    "\n",
    "    sample_weights = [0]*len(dataset)\n",
    "    for idx, (image, label) in enumerate(dataset):\n",
    "        sample_weights[idx] = class_weights[label]\n",
    "\n",
    "    sampler = WeightedRandomSampler(sample_weights, num_samples=len(sample_weights), replacement=True)\n",
    "    return DataLoader(dataset, BATCH_SIZE, sampler=sampler, shuffle=False)\n",
    "\n",
    "\n",
    "train_loader = get_loader(train_dataset)\n",
    "test_loader = get_loader(test_dataset)"
   ]
  },
  {
   "cell_type": "markdown",
   "metadata": {},
   "source": [
    "-----\n",
    "# AlexNet Model"
   ]
  },
  {
   "cell_type": "code",
   "execution_count": 12,
   "metadata": {},
   "outputs": [],
   "source": [
    "# Batch size during training, remember to change the global one as well\n",
    "batch_size = BATCH_SIZE\n",
    "\n",
    "# Number of training epochs\n",
    "num_epochs = 15\n",
    "\n",
    "# Learning rate for optimizers\n",
    "lr = 0.01"
   ]
  },
  {
   "cell_type": "code",
   "execution_count": 13,
   "metadata": {},
   "outputs": [
    {
     "name": "stdout",
     "output_type": "stream",
     "text": [
      "['neutral', 'happy', 'surprised', 'sad', 'angry']\n"
     ]
    }
   ],
   "source": [
    "# Function for displaying predictions for a few images, in this case 6.\n",
    "#print(test_set[0])\n",
    "\n",
    "class_names = CLASSES\n",
    "print(class_names)\n",
    "\n",
    "def visualize_expression_model(model, num_images=4):\n",
    "    model.eval()\n",
    "    images_so_far = 0\n",
    "    fig = plt.figure()\n",
    "\n",
    "    with torch.no_grad():\n",
    "        for i, (inputs, labels) in enumerate(test_loader):\n",
    "            inputs = inputs.to(device)\n",
    "            labels = labels.to(device)\n",
    "\n",
    "            outputs = model(inputs)\n",
    "            _, preds = torch.max(outputs, 1)\n",
    "\n",
    "            for j in range(inputs.size()[0]):\n",
    "                images_so_far += 1\n",
    "                ax = plt.subplot(num_images//2, 2, images_so_far)\n",
    "                ax.axis('off')\n",
    "                ax.set_title('predicted: {}'.format(class_names[preds[j]]))\n",
    "                plt.imshow(inputs.cpu().data[j].permute(1, 2, 0), cmap=\"gray\")\n",
    "\n",
    "                if images_so_far == num_images:\n",
    "                    return"
   ]
  },
  {
   "cell_type": "code",
   "execution_count": 14,
   "metadata": {},
   "outputs": [],
   "source": [
    "loss_train = []\n",
    "accuracy_train = []\n",
    "\n",
    "def train_expression_model(model, data, criterion, optimizer):\n",
    "    since = time.time()\n",
    "    best_acc = 0.0\n",
    "    model.train()   # Set model to train mode\n",
    "    running_loss = 0.0\n",
    "    running_corrects = 0\n",
    "    \n",
    "    for inputs, labels in data:\n",
    "        inputs = inputs.to(device)\n",
    "        labels = labels.to(device)\n",
    "    \n",
    "        outputs = model(inputs)\n",
    "        _, preds = torch.max(outputs, 1)\n",
    "        loss = criterion(outputs, labels)\n",
    "        \n",
    "        # zero the parameter gradients, and use backpropagatation\n",
    "        optimizer.zero_grad()\n",
    "        loss.backward()\n",
    "        optimizer.step()\n",
    "        \n",
    "        running_loss += loss.item()\n",
    "        running_corrects += torch.sum(preds == labels.data)\n",
    "    \n",
    "    epoch_loss = running_loss / len(train_dataset)\n",
    "    epoch_acc = running_corrects.double() / len(train_dataset)\n",
    "\n",
    "    loss_train.append(epoch_loss)\n",
    "    accuracy_train.append(epoch_acc)\n",
    "\n",
    "    print('train Loss: {:.4f} Acc: {:.4f}'.format(epoch_loss, epoch_acc))"
   ]
  },
  {
   "cell_type": "code",
   "execution_count": 15,
   "metadata": {},
   "outputs": [],
   "source": [
    "loss_test = []\n",
    "accuracy_test = []\n",
    "y_actual = []\n",
    "y_pred = []\n",
    "\n",
    "def test_expression_model(model, data, criterion):\n",
    "    model.eval()   # Set model to evaluate mode\n",
    "    running_loss = 0.0\n",
    "    running_corrects = 0\n",
    "    \n",
    "    for inputs, labels in data:\n",
    "        inputs = inputs.to(device)\n",
    "        labels = labels.to(device)\n",
    "\n",
    "        with torch.no_grad():\n",
    "            predy = model(inputs)\n",
    "\n",
    "        y_actual.extend(labels.cpu())\n",
    "        y_pred.extend(predy.argmax(1).cpu())\n",
    "    \n",
    "        outputs = model(inputs)\n",
    "        _, preds = torch.max(outputs, 1)\n",
    "        loss = criterion(outputs, labels)\n",
    "        \n",
    "        running_loss += loss.item()\n",
    "        running_corrects += torch.sum(preds == labels.data)\n",
    "        \n",
    "    epoch_loss = running_loss / len(test_dataset)\n",
    "    epoch_acc = running_corrects.double() / len(test_dataset)\n",
    "\n",
    "    loss_test.append(epoch_loss)\n",
    "    accuracy_test.append(epoch_acc)\n",
    "\n",
    "    print('test Loss: {:.4f} Acc: {:.4f}'.format(\n",
    "        epoch_loss, epoch_acc))"
   ]
  },
  {
   "cell_type": "code",
   "execution_count": 16,
   "metadata": {},
   "outputs": [],
   "source": [
    "# This is a recreation of the AlexNet model. https://pytorch.org/vision/0.12/_modules/torchvision/models/alexnet.html\n",
    "\n",
    "class Facial_Expression_Network_AlexNet(nn.Module):\n",
    "    def __init__(self):\n",
    "        super(Facial_Expression_Network_AlexNet, self).__init__()\n",
    "\n",
    "        self.features = nn.Sequential(\n",
    "            nn.Conv2d(1, IMG_SIZE, kernel_size=(3,3), stride=(1, 1), padding=(2, 2)), \n",
    "            nn.ReLU(inplace=True), # Rectified Linear Unit activation function\n",
    "            nn.MaxPool2d(kernel_size=3, stride=2, padding=0, dilation=1, ceil_mode=False), # pooling layer for reducing dimensions\n",
    "            nn.Conv2d(IMG_SIZE, 192, kernel_size=(3, 3), stride=(1, 1), padding=(2, 2)),\n",
    "            nn.ReLU(inplace=True),\n",
    "            nn.Conv2d(192, 192, kernel_size=(3, 3), stride=(1, 1), padding=(2, 2)),\n",
    "            nn.ReLU(inplace=True),\n",
    "            nn.MaxPool2d(kernel_size=3, stride=2, padding=0, dilation=1, ceil_mode=False),\n",
    "            nn.Conv2d(192, 384, kernel_size=(3, 3), stride=(1, 1), padding=(1, 1)),\n",
    "            nn.ReLU(inplace=True),\n",
    "            nn.Conv2d(384, 256, kernel_size=(3, 3), stride=(1, 1), padding=(1, 1)),\n",
    "            nn.ReLU(inplace=True),\n",
    "            nn.Conv2d(256, 256, kernel_size=(3, 3), stride=(1, 1), padding=(1, 1)),\n",
    "            nn.ReLU(inplace=True),\n",
    "            nn.MaxPool2d(kernel_size=3, stride=2, padding=0, dilation=1, ceil_mode=False)\n",
    "        )\n",
    "\n",
    "        self.avgpool = nn.AdaptiveAvgPool2d(output_size=(6, 6)) # Applies a 2D adaptive average pooling over an input composed of several input planes.\n",
    "\n",
    "\n",
    "        self.classifier = nn.Sequential(\n",
    "            nn.Dropout(p=0.5, inplace=False), # Dropout layer for setting 50% of the activations to 0, fording the network to not rely on any 1 node\n",
    "            nn.Linear(in_features=9216, out_features=4096, bias=True), # Linear layer\n",
    "            nn.ReLU(inplace=True),\n",
    "            nn.Dropout(p=0.5, inplace=False),\n",
    "            nn.Linear(in_features=4096, out_features=4096, bias=True),\n",
    "            nn.ReLU(inplace=True),\n",
    "            nn.Linear(in_features=4096, out_features=NUM_CLASSES, bias=True),\n",
    "        ) # ---- Change out_features if change in amount of classes ----\n",
    "\n",
    "\n",
    "        self.softmax = nn.Softmax(dim=1) # last activation function for the network, normalizing the output\n",
    "        self.softmax_result = 0 \n",
    "\n",
    "    def forward(self, x, verbose=False):\n",
    "        x = self.features(x)\n",
    "        x = self.avgpool(x)\n",
    "\n",
    "        # The data needs to be flattened after the AdaptiveAvgPool2d as its output is H x W\n",
    "        # This is because the classifier's first layer is a Linear layer\n",
    "        x = torch.flatten(x, 1)\n",
    "\n",
    "        x = self.classifier(x) \n",
    "        self.softmax_result = self.softmax(x)\n",
    "        return x"
   ]
  },
  {
   "cell_type": "code",
   "execution_count": 17,
   "metadata": {},
   "outputs": [],
   "source": [
    "expression_model = Facial_Expression_Network_AlexNet().to(device)\n",
    "\n",
    "loss_fn = nn.CrossEntropyLoss()\n",
    "\n",
    "optimizer = torch.optim.SGD(expression_model.parameters(), lr=lr, momentum = 0.9)\n",
    "#optimizer = torch.optim.Adam(expression_model.parameters(), lr=lr)\n",
    "\n",
    "# Decay LR by a factor of 0.1 every 1 epochs\n",
    "scheduler = lr_scheduler.StepLR(optimizer, step_size=5, gamma=0.0001)"
   ]
  },
  {
   "cell_type": "code",
   "execution_count": 18,
   "metadata": {},
   "outputs": [
    {
     "name": "stdout",
     "output_type": "stream",
     "text": [
      "Epoch 1/15\n",
      "\n",
      "train Loss: 0.0461 Acc: 0.3224\n",
      "test Loss: 0.0374 Acc: 0.5118\n",
      "Epoch 2/15\n",
      "\n",
      "train Loss: 0.0294 Acc: 0.6244\n",
      "test Loss: 0.0245 Acc: 0.6970\n",
      "Epoch 3/15\n",
      "\n",
      "train Loss: 0.0209 Acc: 0.7441\n",
      "test Loss: 0.0191 Acc: 0.7628\n",
      "Epoch 4/15\n",
      "\n",
      "train Loss: 0.0166 Acc: 0.8006\n",
      "test Loss: 0.0196 Acc: 0.7753\n",
      "Epoch 5/15\n",
      "\n",
      "train Loss: 0.0135 Acc: 0.8413\n",
      "test Loss: 0.0193 Acc: 0.7740\n",
      "Epoch 6/15\n",
      "\n",
      "train Loss: 0.0112 Acc: 0.8690\n",
      "test Loss: 0.0192 Acc: 0.8001\n",
      "Epoch 7/15\n",
      "\n",
      "train Loss: 0.0097 Acc: 0.8878\n",
      "test Loss: 0.0199 Acc: 0.8027\n",
      "Epoch 8/15\n",
      "\n",
      "train Loss: 0.0084 Acc: 0.9031\n",
      "test Loss: 0.0173 Acc: 0.8065\n",
      "Epoch 9/15\n",
      "\n",
      "train Loss: 0.0070 Acc: 0.9206\n",
      "test Loss: 0.0213 Acc: 0.8175\n",
      "Epoch 10/15\n",
      "\n",
      "train Loss: 0.0061 Acc: 0.9313\n",
      "test Loss: 0.0188 Acc: 0.8119\n",
      "Epoch 11/15\n",
      "\n",
      "train Loss: 0.0055 Acc: 0.9403\n",
      "test Loss: 0.0207 Acc: 0.8268\n",
      "Epoch 12/15\n",
      "\n",
      "train Loss: 0.0051 Acc: 0.9438\n",
      "test Loss: 0.0204 Acc: 0.8165\n",
      "Epoch 13/15\n",
      "\n",
      "train Loss: 0.0046 Acc: 0.9481\n",
      "test Loss: 0.0183 Acc: 0.8316\n",
      "Epoch 14/15\n",
      "\n",
      "train Loss: 0.0046 Acc: 0.9493\n",
      "test Loss: 0.0198 Acc: 0.8251\n",
      "Epoch 15/15\n",
      "\n",
      "train Loss: 0.0037 Acc: 0.9609\n",
      "test Loss: 0.0266 Acc: 0.8061\n"
     ]
    }
   ],
   "source": [
    "for epoch in range(1, (num_epochs+1)):\n",
    "    print('Epoch {}/{}'.format(epoch, num_epochs))\n",
    "    print()\n",
    "    train_expression_model(expression_model, train_loader, loss_fn, optimizer)\n",
    "    test_expression_model(expression_model, test_loader, loss_fn)\n",
    "    scheduler.step"
   ]
  },
  {
   "cell_type": "code",
   "execution_count": 19,
   "metadata": {},
   "outputs": [],
   "source": [
    "#torch.save(expression_model.state_dict(), \"face_expression_filtered_model.pt\")"
   ]
  },
  {
   "cell_type": "code",
   "execution_count": 20,
   "metadata": {},
   "outputs": [
    {
     "data": {
      "image/png": "[encoded data removed]",
      "text/plain": [
       "<Figure size 504x360 with 1 Axes>"
      ]
     },
     "metadata": {
      "needs_background": "light"
     },
     "output_type": "display_data"
    },
    {
     "data": {
      "image/png": "[encoded data removed]",
      "text/plain": [
       "<Figure size 504x360 with 1 Axes>"
      ]
     },
     "metadata": {
      "needs_background": "light"
     },
     "output_type": "display_data"
    }
   ],
   "source": [
    "def plot_metric(train, test, metric, title):\n",
    "    plt.figure(figsize = (7, 5))\n",
    "\n",
    "    train = torch.tensor(train, device='cpu')\n",
    "    test = torch.tensor(test, device='cpu')\n",
    "\n",
    "    with torch.no_grad():\n",
    "        plt.plot(range(len(train)), train, label = \"train\")\n",
    "        plt.plot(range(len(test)), test, label = \"test\")\n",
    "    plt.title(title)\n",
    "    plt.xlabel('epoch')\n",
    "    plt.ylabel(metric)\n",
    "    plt.legend()\n",
    "\n",
    "    # plt.savefig(f'{title}.png')\n",
    "    plt.show()\n",
    "\n",
    "\n",
    "plot_metric(loss_train, loss_test, 'loss', 'AlexNet - loss')\n",
    "plot_metric(accuracy_train, accuracy_test, 'accuracy', 'AlexNet - accuracy')"
   ]
  },
  {
   "cell_type": "code",
   "execution_count": 21,
   "metadata": {},
   "outputs": [
    {
     "data": {
      "text/plain": [
       "Text(87.0, 0.5, 'Actual')"
      ]
     },
     "execution_count": 21,
     "metadata": {},
     "output_type": "execute_result"
    },
    {
     "data": {
      "image/png": "[encoded data removed]",
      "text/plain": [
       "<Figure size 864x504 with 2 Axes>"
      ]
     },
     "metadata": {
      "needs_background": "light"
     },
     "output_type": "display_data"
    }
   ],
   "source": [
    "from sklearn.metrics import confusion_matrix\n",
    "import seaborn as sns\n",
    "import pandas as pd\n",
    "\n",
    "\n",
    "counts = np.array([(np.array(y_actual) == i).sum() for i in range(NUM_CLASSES)]).reshape(-1, 1)\n",
    "cf_matrix = confusion_matrix(y_actual, y_pred)\n",
    "cf_matrix_norm = cf_matrix / counts\n",
    "\n",
    "df_cm = pd.DataFrame(cf_matrix_norm, index = CLASSES, columns = CLASSES)\n",
    "plt.figure(figsize = (12,7))\n",
    "s = sns.heatmap(df_cm, annot=True, cmap=sns.color_palette(\"rocket\", as_cmap=True), vmin=0, vmax=1)\n",
    "s.set_xlabel('Predicted', fontsize=14)\n",
    "s.set_ylabel('Actual', fontsize=14)\n",
    "\n",
    "# plt.savefig('confusion_matrix.png')"
   ]
  },
  {
   "cell_type": "code",
   "execution_count": 22,
   "metadata": {},
   "outputs": [
    {
     "data": {
      "image/png": "[encoded data removed]",
      "text/plain": [
       "<Figure size 432x288 with 4 Axes>"
      ]
     },
     "metadata": {
      "needs_background": "light"
     },
     "output_type": "display_data"
    }
   ],
   "source": [
    "visualize_expression_model(expression_model)"
   ]
  },
  {
   "cell_type": "markdown",
   "metadata": {},
   "source": [
    "##### End of AlexNet Model\n",
    "-----"
   ]
  }
 ],
 "metadata": {
  "interpreter": {
   "hash": "462459bc3e617147c8cffc282d893ee434b18ff4bde70f08c233dfc73bb28fd6"
  },
  "kernelspec": {
   "display_name": "Python 3.9.6 64-bit",
   "language": "python",
   "name": "python3"
  },
  "language_info": {
   "codemirror_mode": {
    "name": "ipython",
    "version": 3
   },
   "file_extension": ".py",
   "mimetype": "text/x-python",
   "name": "python",
   "nbconvert_exporter": "python",
   "pygments_lexer": "ipython3",
   "version": "3.9.6"
  },
  "orig_nbformat": 4
 },
 "nbformat": 4,
 "nbformat_minor": 2
}
