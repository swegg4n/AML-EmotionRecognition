{
 "cells": [
  {
   "cell_type": "markdown",
   "metadata": {},
   "source": [
    "# Face Emotion Detection"
   ]
  },
  {
   "cell_type": "markdown",
   "metadata": {},
   "source": [
    "### Advanced machine learning lab"
   ]
  },
  {
   "cell_type": "markdown",
   "metadata": {},
   "source": [
    "### Imports"
   ]
  },
  {
   "cell_type": "code",
   "execution_count": 49,
   "metadata": {},
   "outputs": [],
   "source": [
    "# ML\n",
    "import torch\n",
    "import torchvision\n",
    "import torch.nn as nn\n",
    "import torch.optim as optim\n",
    "import torch.nn.functional as F\n",
    "from torch.optim import lr_scheduler\n",
    "from torch.utils.data import DataLoader, Dataset\n",
    "from torchvision import transforms, models\n",
    "\n",
    "# Data\n",
    "import pandas as pd\n",
    "from sklearn.utils import shuffle\n",
    "\n",
    "# Linalg\n",
    "import numpy as np\n",
    "\n",
    "# Plotting\n",
    "import matplotlib.pyplot as plt\n",
    "%matplotlib inline"
   ]
  },
  {
   "cell_type": "markdown",
   "metadata": {},
   "source": [
    "### Global variables"
   ]
  },
  {
   "cell_type": "code",
   "execution_count": 50,
   "metadata": {},
   "outputs": [],
   "source": [
    "IMG_SIZE = 48\n",
    "BATCH_SIZE = 64\n",
    "CLASSES = ['neutral', 'happy', 'surprised', 'sad', 'angry', 'disgusted', 'afraid']\n",
    "NUM_CLASSES = len(CLASSES)"
   ]
  },
  {
   "cell_type": "code",
   "execution_count": 51,
   "metadata": {},
   "outputs": [
    {
     "name": "stdout",
     "output_type": "stream",
     "text": [
      "running on: cuda:0\n"
     ]
    }
   ],
   "source": [
    "device = 'cuda:0' if torch.cuda.is_available() else 'cpu'\n",
    "print('running on:', device)"
   ]
  },
  {
   "cell_type": "markdown",
   "metadata": {},
   "source": [
    "### Data loading"
   ]
  },
  {
   "cell_type": "code",
   "execution_count": 52,
   "metadata": {},
   "outputs": [],
   "source": [
    "# Load the data and place them in 'images' and 'labels' arrays\n",
    "images = pd.read_csv('data/fer2013.csv').iloc[:,2].to_list()\n",
    "images = np.array([list(map(int, i.split())) for i in images], dtype=np.uint8)\n",
    "images = np.reshape(images, (-1, 48, 48))\n",
    "\n",
    "labels = np.array(pd.read_csv('data/fer2013.csv').iloc[:,0].to_list())"
   ]
  },
  {
   "cell_type": "code",
   "execution_count": 53,
   "metadata": {},
   "outputs": [],
   "source": [
    "# Shuffle the data\n",
    "images, labels = shuffle(images, labels, random_state=0)"
   ]
  },
  {
   "cell_type": "code",
   "execution_count": 54,
   "metadata": {},
   "outputs": [],
   "source": [
    "# Split the data in train and test sets\n",
    "train_prcnt = 0.8\n",
    "train_len = int(train_prcnt * len(images))\n",
    "\n",
    "train_images = images[:train_len]\n",
    "train_labels = labels[:train_len]\n",
    "\n",
    "test_images = images[train_len:]\n",
    "test_labels = labels[train_len:]"
   ]
  },
  {
   "cell_type": "code",
   "execution_count": 55,
   "metadata": {},
   "outputs": [],
   "source": [
    "# Custom dataset for images and labels\n",
    "class CustomDataset(Dataset):\n",
    "    \n",
    "    def __init__(self, images, labels, transform=None):\n",
    "        self.images = images\n",
    "        self.labels = labels\n",
    "        self.transform = transform\n",
    "\n",
    "    def __len__(self):\n",
    "        return len(self.labels)\n",
    "\n",
    "    def __getitem__(self, idx):\n",
    "        image = self.images[idx]\n",
    "        label = self.labels[idx]\n",
    "        if self.transform:\n",
    "            image = self.transform(image)\n",
    "        return image, label"
   ]
  },
  {
   "cell_type": "code",
   "execution_count": 56,
   "metadata": {},
   "outputs": [],
   "source": [
    "# Create the datasets and the dataloaders\n",
    "\n",
    "# Data augmentation\n",
    "transform = transforms.Compose([\n",
    "    transforms.ToTensor(),\n",
    "    transforms.Resize(IMG_SIZE),\n",
    "    #torchvision.transforms.RandomHorizontalFlip(),\n",
    "    #torchvision.transforms.RandomRotation(20)\n",
    "])\n",
    "\n",
    "train_dataset = CustomDataset(train_images, train_labels, transform)\n",
    "test_dataset = CustomDataset(test_images, test_labels, transform)\n",
    "train_loader = DataLoader(train_dataset)\n",
    "test_loader = DataLoader(test_dataset)"
   ]
  },
  {
   "cell_type": "markdown",
   "metadata": {},
   "source": [
    "### Display the data"
   ]
  },
  {
   "cell_type": "code",
   "execution_count": 57,
   "metadata": {},
   "outputs": [
    {
     "data": {
      "image/png": "[encoded data removed]",
      "text/plain": [
       "<Figure size 1080x360 with 5 Axes>"
      ]
     },
     "metadata": {
      "needs_background": "light"
     },
     "output_type": "display_data"
    }
   ],
   "source": [
    "plt.figure(figsize=(15, 5))\n",
    "i = 0\n",
    "for image, label in train_loader:\n",
    "    if i == 5:\n",
    "        break\n",
    "    plt.subplot(1, 5, i+1)\n",
    "    plt.axis(\"off\")\n",
    "    plt.imshow(image[0][0], cmap=\"gray\")\n",
    "    plt.title(CLASSES[label])\n",
    "    i += 1"
   ]
  },
  {
   "cell_type": "markdown",
   "metadata": {},
   "source": [
    "### The model"
   ]
  },
  {
   "cell_type": "code",
   "execution_count": 58,
   "metadata": {},
   "outputs": [],
   "source": [
    "class CNN(nn.Module):\n",
    "    def __init__(self, n_features):\n",
    "        super(CNN, self).__init__()\n",
    "        self.conv1 = nn.Conv2d(in_channels=1, out_channels=n_features, kernel_size=5)\n",
    "        self.conv2 = nn.Conv2d(n_features, n_features, kernel_size=5)\n",
    "\n",
    "        self.conv2_drop = nn.Dropout2d()\n",
    "        self.flatten = nn.Flatten()\n",
    "        \n",
    "        self.fc1 = nn.Linear(n_features*9*9, 1024)\n",
    "        self.fc2 = nn.Linear(1024, NUM_CLASSES)   \n",
    "        \n",
    "    def forward(self, x):\n",
    "        x = self.conv1(x)\n",
    "        x = F.max_pool2d(x, 2)\n",
    "        x = F.relu(x)\n",
    "        \n",
    "        x = self.conv2(x)\n",
    "        x = self.conv2_drop(x)\n",
    "        x = F.max_pool2d(x, 2)\n",
    "        x = F.relu(x)\n",
    "\n",
    "        x = self.flatten(x)\n",
    "        x = self.fc1(x)\n",
    "        x = F.relu(x)\n",
    "        x = F.dropout(x, training=self.training)\n",
    "        x = self.fc2(x)\n",
    "        return x"
   ]
  },
  {
   "cell_type": "code",
   "execution_count": 59,
   "metadata": {},
   "outputs": [],
   "source": [
    "def conv_block(in_channels, out_channels, pool=False):\n",
    "  layers = [nn.Conv2d(in_channels, out_channels, kernel_size=3, padding=1), nn.BatchNorm2d(out_channels), nn.ELU(inplace=True)]\n",
    "  if pool: \n",
    "    layers.append(nn.MaxPool2d(2))\n",
    "  return nn.Sequential(*layers)\n",
    "\n",
    "class ResNet(nn.Module):\n",
    "  def __init__(self):\n",
    "    super().__init__()\n",
    "    \n",
    "    self.conv1 = conv_block(1, 128)\n",
    "    self.conv2 = conv_block(128, 128, pool=True)\n",
    "    self.res1 = nn.Sequential(conv_block(128, 128), conv_block(128, 128))\n",
    "    self.drop1 = nn.Dropout(0.5)\n",
    "    \n",
    "    self.conv3 = conv_block(128, 256)\n",
    "    self.conv4 = conv_block(256, 256, pool=True)\n",
    "    self.res2 = nn.Sequential(conv_block(256, 256), conv_block(256, 256))\n",
    "    self.drop2 = nn.Dropout(0.5)\n",
    "    \n",
    "    self.conv5 = conv_block(256, 512)\n",
    "    self.conv6 = conv_block(512, 512, pool=True)\n",
    "    self.res3 = nn.Sequential(conv_block(512, 512), conv_block(512, 512))\n",
    "    self.drop3 = nn.Dropout(0.5)\n",
    "    \n",
    "    self.classifier = nn.Sequential(nn.MaxPool2d(6), nn.Flatten(), nn.Linear(512, NUM_CLASSES))\n",
    "\n",
    "\n",
    "  def forward(self, x):\n",
    "    out = self.conv1(x)\n",
    "    out = self.conv2(out)\n",
    "    out = self.res1(out) + out\n",
    "    out = self.drop1(out)\n",
    "\n",
    "    out = self.conv3(out)\n",
    "    out = self.conv4(out)\n",
    "    out = self.res2(out) + out\n",
    "    out = self.drop2(out)\n",
    "\n",
    "    out = self.conv5(out)\n",
    "    out = self.conv6(out)\n",
    "    out = self.res3(out) + out\n",
    "    out = self.drop3(out)\n",
    "\n",
    "    out = self.classifier(out)\n",
    "    return out"
   ]
  },
  {
   "cell_type": "markdown",
   "metadata": {},
   "source": [
    "### Train and test functions"
   ]
  },
  {
   "cell_type": "code",
   "execution_count": 60,
   "metadata": {},
   "outputs": [],
   "source": [
    "def train(model, data, criterion, optimizer):\n",
    "    model.train()\n",
    "    loss = 0\n",
    "    corrects = 0\n",
    "\n",
    "    for X, y in data:\n",
    "        y = y.type(torch.LongTensor)   # casting to long\n",
    "        X, y = X.to(device), y.to(device)\n",
    "\n",
    "        Y = model(X)\n",
    "        loss = criterion(Y, y)\n",
    "\n",
    "        optimizer.zero_grad()\n",
    "        loss.backward()\n",
    "        optimizer.step()\n",
    "\n",
    "        loss += loss.item()\n",
    "        corrects += (Y.argmax(1) == y).type(torch.float).sum().item()\n",
    "\n",
    "    epoch_loss = loss / len(train_dataset)\n",
    "    epoch_accuracy = corrects / len(train_dataset)\n",
    "    print(f\"  TRAIN\\t loss: {epoch_loss:.4f}  |  accuracy: {epoch_accuracy:.4f}\")\n",
    "        "
   ]
  },
  {
   "cell_type": "code",
   "execution_count": 61,
   "metadata": {},
   "outputs": [],
   "source": [
    "def test(model, data, criterion):\n",
    "    model.eval()\n",
    "    loss = 0.0\n",
    "    corrects = 0\n",
    "    \n",
    "    for X, y in data:\n",
    "        y = y.type(torch.LongTensor)   # casting to long\n",
    "        X, y = X.to(device), y.to(device)\n",
    "\n",
    "        with torch.no_grad():\n",
    "            pred = model(X)\n",
    "        \n",
    "        loss = criterion(pred, y)\n",
    "        loss += loss.item()\n",
    "        corrects += (pred.argmax(1) == y).type(torch.float).sum().item()\n",
    "\n",
    "    epoch_loss = loss / len(test_dataset)\n",
    "    epoch_accuracy = corrects / len(test_dataset)\n",
    "    print(f\"  TEST\\t loss: {epoch_loss:.4f}  |  accuracy: {epoch_accuracy:.4f}\")"
   ]
  },
  {
   "cell_type": "code",
   "execution_count": 64,
   "metadata": {},
   "outputs": [],
   "source": [
    "model = ResNet()\n",
    "model.to(device)\n",
    "\n",
    "EPOCHS = 10\n",
    "LEARNING_RATE = 0.005\n",
    "MOMENTUM = 0.9\n",
    "\n",
    "criterion = nn.CrossEntropyLoss()\n",
    "optimizer = optim.SGD(model.parameters(), lr=LEARNING_RATE, momentum=MOMENTUM)\n",
    "scheduler = lr_scheduler.StepLR(optimizer, step_size=7, gamma=0.1)"
   ]
  },
  {
   "cell_type": "code",
   "execution_count": 65,
   "metadata": {},
   "outputs": [
    {
     "name": "stdout",
     "output_type": "stream",
     "text": [
      "Epoch 1/10\n",
      "  TRAIN\t loss: 0.0003  |  accuracy: 0.0580\n",
      "  TEST\t loss: 0.0018  |  accuracy: 0.1524\n",
      "Epoch 2/10\n"
     ]
    },
    {
     "ename": "KeyboardInterrupt",
     "evalue": "",
     "output_type": "error",
     "traceback": [
      "\u001b[1;31m---------------------------------------------------------------------------\u001b[0m",
      "\u001b[1;31mKeyboardInterrupt\u001b[0m                         Traceback (most recent call last)",
      "\u001b[1;32mc:\\Users\\Douglas\\OneDrive\\Dokument\\GIT\\AML-EmotionRecognition\\douglas.ipynb Cell 23'\u001b[0m in \u001b[0;36m<cell line: 1>\u001b[1;34m()\u001b[0m\n\u001b[0;32m      <a href='vscode-notebook-cell:/c%3A/Users/Douglas/OneDrive/Dokument/GIT/AML-EmotionRecognition/douglas.ipynb#ch0000021?line=0'>1</a>\u001b[0m \u001b[39mfor\u001b[39;00m epoch \u001b[39min\u001b[39;00m \u001b[39mrange\u001b[39m(EPOCHS):\n\u001b[0;32m      <a href='vscode-notebook-cell:/c%3A/Users/Douglas/OneDrive/Dokument/GIT/AML-EmotionRecognition/douglas.ipynb#ch0000021?line=1'>2</a>\u001b[0m     \u001b[39mprint\u001b[39m(\u001b[39m'\u001b[39m\u001b[39mEpoch \u001b[39m\u001b[39m{}\u001b[39;00m\u001b[39m/\u001b[39m\u001b[39m{}\u001b[39;00m\u001b[39m'\u001b[39m\u001b[39m.\u001b[39mformat(epoch\u001b[39m+\u001b[39m\u001b[39m1\u001b[39m, EPOCHS))\n\u001b[1;32m----> <a href='vscode-notebook-cell:/c%3A/Users/Douglas/OneDrive/Dokument/GIT/AML-EmotionRecognition/douglas.ipynb#ch0000021?line=2'>3</a>\u001b[0m     train(model, test_loader, criterion, optimizer)\n\u001b[0;32m      <a href='vscode-notebook-cell:/c%3A/Users/Douglas/OneDrive/Dokument/GIT/AML-EmotionRecognition/douglas.ipynb#ch0000021?line=3'>4</a>\u001b[0m     test(model, test_loader, criterion)\n\u001b[0;32m      <a href='vscode-notebook-cell:/c%3A/Users/Douglas/OneDrive/Dokument/GIT/AML-EmotionRecognition/douglas.ipynb#ch0000021?line=4'>5</a>\u001b[0m     scheduler\u001b[39m.\u001b[39mstep()\n",
      "\u001b[1;32mc:\\Users\\Douglas\\OneDrive\\Dokument\\GIT\\AML-EmotionRecognition\\douglas.ipynb Cell 20'\u001b[0m in \u001b[0;36mtrain\u001b[1;34m(model, data, criterion, optimizer)\u001b[0m\n\u001b[0;32m     <a href='vscode-notebook-cell:/c%3A/Users/Douglas/OneDrive/Dokument/GIT/AML-EmotionRecognition/douglas.ipynb#ch0000018?line=10'>11</a>\u001b[0m loss \u001b[39m=\u001b[39m criterion(Y, y)\n\u001b[0;32m     <a href='vscode-notebook-cell:/c%3A/Users/Douglas/OneDrive/Dokument/GIT/AML-EmotionRecognition/douglas.ipynb#ch0000018?line=12'>13</a>\u001b[0m optimizer\u001b[39m.\u001b[39mzero_grad()\n\u001b[1;32m---> <a href='vscode-notebook-cell:/c%3A/Users/Douglas/OneDrive/Dokument/GIT/AML-EmotionRecognition/douglas.ipynb#ch0000018?line=13'>14</a>\u001b[0m loss\u001b[39m.\u001b[39;49mbackward()\n\u001b[0;32m     <a href='vscode-notebook-cell:/c%3A/Users/Douglas/OneDrive/Dokument/GIT/AML-EmotionRecognition/douglas.ipynb#ch0000018?line=14'>15</a>\u001b[0m optimizer\u001b[39m.\u001b[39mstep()\n\u001b[0;32m     <a href='vscode-notebook-cell:/c%3A/Users/Douglas/OneDrive/Dokument/GIT/AML-EmotionRecognition/douglas.ipynb#ch0000018?line=16'>17</a>\u001b[0m loss \u001b[39m+\u001b[39m\u001b[39m=\u001b[39m loss\u001b[39m.\u001b[39mitem()\n",
      "File \u001b[1;32mc:\\Users\\Douglas\\AppData\\Local\\Programs\\Python\\Python39\\lib\\site-packages\\torch\\_tensor.py:363\u001b[0m, in \u001b[0;36mTensor.backward\u001b[1;34m(self, gradient, retain_graph, create_graph, inputs)\u001b[0m\n\u001b[0;32m    <a href='file:///c%3A/Users/Douglas/AppData/Local/Programs/Python/Python39/lib/site-packages/torch/_tensor.py?line=353'>354</a>\u001b[0m \u001b[39mif\u001b[39;00m has_torch_function_unary(\u001b[39mself\u001b[39m):\n\u001b[0;32m    <a href='file:///c%3A/Users/Douglas/AppData/Local/Programs/Python/Python39/lib/site-packages/torch/_tensor.py?line=354'>355</a>\u001b[0m     \u001b[39mreturn\u001b[39;00m handle_torch_function(\n\u001b[0;32m    <a href='file:///c%3A/Users/Douglas/AppData/Local/Programs/Python/Python39/lib/site-packages/torch/_tensor.py?line=355'>356</a>\u001b[0m         Tensor\u001b[39m.\u001b[39mbackward,\n\u001b[0;32m    <a href='file:///c%3A/Users/Douglas/AppData/Local/Programs/Python/Python39/lib/site-packages/torch/_tensor.py?line=356'>357</a>\u001b[0m         (\u001b[39mself\u001b[39m,),\n\u001b[1;32m   (...)\u001b[0m\n\u001b[0;32m    <a href='file:///c%3A/Users/Douglas/AppData/Local/Programs/Python/Python39/lib/site-packages/torch/_tensor.py?line=360'>361</a>\u001b[0m         create_graph\u001b[39m=\u001b[39mcreate_graph,\n\u001b[0;32m    <a href='file:///c%3A/Users/Douglas/AppData/Local/Programs/Python/Python39/lib/site-packages/torch/_tensor.py?line=361'>362</a>\u001b[0m         inputs\u001b[39m=\u001b[39minputs)\n\u001b[1;32m--> <a href='file:///c%3A/Users/Douglas/AppData/Local/Programs/Python/Python39/lib/site-packages/torch/_tensor.py?line=362'>363</a>\u001b[0m torch\u001b[39m.\u001b[39;49mautograd\u001b[39m.\u001b[39;49mbackward(\u001b[39mself\u001b[39;49m, gradient, retain_graph, create_graph, inputs\u001b[39m=\u001b[39;49minputs)\n",
      "File \u001b[1;32mc:\\Users\\Douglas\\AppData\\Local\\Programs\\Python\\Python39\\lib\\site-packages\\torch\\autograd\\__init__.py:173\u001b[0m, in \u001b[0;36mbackward\u001b[1;34m(tensors, grad_tensors, retain_graph, create_graph, grad_variables, inputs)\u001b[0m\n\u001b[0;32m    <a href='file:///c%3A/Users/Douglas/AppData/Local/Programs/Python/Python39/lib/site-packages/torch/autograd/__init__.py?line=167'>168</a>\u001b[0m     retain_graph \u001b[39m=\u001b[39m create_graph\n\u001b[0;32m    <a href='file:///c%3A/Users/Douglas/AppData/Local/Programs/Python/Python39/lib/site-packages/torch/autograd/__init__.py?line=169'>170</a>\u001b[0m \u001b[39m# The reason we repeat same the comment below is that\u001b[39;00m\n\u001b[0;32m    <a href='file:///c%3A/Users/Douglas/AppData/Local/Programs/Python/Python39/lib/site-packages/torch/autograd/__init__.py?line=170'>171</a>\u001b[0m \u001b[39m# some Python versions print out the first line of a multi-line function\u001b[39;00m\n\u001b[0;32m    <a href='file:///c%3A/Users/Douglas/AppData/Local/Programs/Python/Python39/lib/site-packages/torch/autograd/__init__.py?line=171'>172</a>\u001b[0m \u001b[39m# calls in the traceback and some print out the last line\u001b[39;00m\n\u001b[1;32m--> <a href='file:///c%3A/Users/Douglas/AppData/Local/Programs/Python/Python39/lib/site-packages/torch/autograd/__init__.py?line=172'>173</a>\u001b[0m Variable\u001b[39m.\u001b[39;49m_execution_engine\u001b[39m.\u001b[39;49mrun_backward(  \u001b[39m# Calls into the C++ engine to run the backward pass\u001b[39;49;00m\n\u001b[0;32m    <a href='file:///c%3A/Users/Douglas/AppData/Local/Programs/Python/Python39/lib/site-packages/torch/autograd/__init__.py?line=173'>174</a>\u001b[0m     tensors, grad_tensors_, retain_graph, create_graph, inputs,\n\u001b[0;32m    <a href='file:///c%3A/Users/Douglas/AppData/Local/Programs/Python/Python39/lib/site-packages/torch/autograd/__init__.py?line=174'>175</a>\u001b[0m     allow_unreachable\u001b[39m=\u001b[39;49m\u001b[39mTrue\u001b[39;49;00m, accumulate_grad\u001b[39m=\u001b[39;49m\u001b[39mTrue\u001b[39;49;00m)\n",
      "\u001b[1;31mKeyboardInterrupt\u001b[0m: "
     ]
    }
   ],
   "source": [
    "for epoch in range(EPOCHS):\n",
    "    print('Epoch {}/{}'.format(epoch+1, EPOCHS))\n",
    "    train(model, test_loader, criterion, optimizer)\n",
    "    test(model, test_loader, criterion)\n",
    "    scheduler.step()"
   ]
  }
 ],
 "metadata": {
  "interpreter": {
   "hash": "bdcdbbaa8aeb9a3e6004896aa568dc8b4d146bf1a595df2c4e5d6eca59091015"
  },
  "kernelspec": {
   "display_name": "Python 3.9.1 64-bit",
   "language": "python",
   "name": "python3"
  },
  "language_info": {
   "codemirror_mode": {
    "name": "ipython",
    "version": 3
   },
   "file_extension": ".py",
   "mimetype": "text/x-python",
   "name": "python",
   "nbconvert_exporter": "python",
   "pygments_lexer": "ipython3",
   "version": "3.9.1"
  },
  "orig_nbformat": 4
 },
 "nbformat": 4,
 "nbformat_minor": 2
}
