{
 "cells": [
  {
   "cell_type": "code",
   "execution_count": 1,
   "metadata": {},
   "outputs": [],
   "source": [
    "import torch\n",
    "import torchvision\n",
    "import torch.nn as nn\n",
    "import torch.nn.functional as F\n",
    "import torchvision.transforms as T\n",
    "import torch.optim as optim\n",
    "from torch.optim import lr_scheduler\n",
    "from torchvision import datasets, models, transforms\n",
    "import torchvision.utils as vutils\n",
    "from torch.utils.data import WeightedRandomSampler, DataLoader, Dataset\n",
    "\n",
    "from PIL import Image\n",
    "import matplotlib.pyplot as plt\n",
    "import numpy as np\n",
    "import random\n",
    "import pandas as pd\n",
    "\n",
    "import seaborn as sns\n",
    "from scipy import ndimage"
   ]
  },
  {
   "cell_type": "code",
   "execution_count": 2,
   "metadata": {},
   "outputs": [
    {
     "name": "stdout",
     "output_type": "stream",
     "text": [
      "running on: cuda:0\n"
     ]
    }
   ],
   "source": [
    "device = 'cuda:0' if torch.cuda.is_available() else 'cpu'\n",
    "print('running on:', device)"
   ]
  },
  {
   "cell_type": "code",
   "execution_count": 3,
   "metadata": {},
   "outputs": [],
   "source": [
    "SOURCE_IMG_SIZE = 48\n",
    "IMG_SIZE = 48\n",
    "\n",
    "CLASSES = ['neutral', 'happy', 'surprised', 'sad', 'angry'] #, 'disgusted', 'afraid'\n",
    "NUM_CLASSES = len(CLASSES)"
   ]
  },
  {
   "cell_type": "markdown",
   "metadata": {},
   "source": [
    "## Pre-processing"
   ]
  },
  {
   "cell_type": "code",
   "execution_count": 4,
   "metadata": {},
   "outputs": [
    {
     "name": "stdout",
     "output_type": "stream",
     "text": [
      "number of images: 35887\n",
      "after removing images with unknown/unsure classification: 26811\n"
     ]
    }
   ],
   "source": [
    "df_fer = pd.read_csv('../data/fer2013.csv').iloc[:, 1:]\n",
    "df_ferplus = pd.read_csv('../data/ferplus2013.csv').iloc[:, [2, 3, 4, 5, 6]]\n",
    "df = df_fer.join(df_ferplus)\n",
    "# df.head(15)\n",
    "\n",
    "df['emotion'] = df.iloc[:, 2:].idxmax(axis=1).tolist()\n",
    "df = df.replace(dict(zip(pd.Series(CLASSES),pd.Series(CLASSES).index)))\n",
    "# df.head(15)\n",
    "\n",
    "print('number of images:', df.shape[0])\n",
    "df = df[(df.iloc[:, 2:-1].max(axis=1) > 5)]\n",
    "print('after removing images with unknown/unsure classification:', df.shape[0])\n",
    "# df.head(15)\n",
    "\n",
    "df = df.iloc[:, [0, 1, -1]]\n",
    "# df.head(15)"
   ]
  },
  {
   "cell_type": "code",
   "execution_count": 5,
   "metadata": {},
   "outputs": [],
   "source": [
    "# ---- Normal Dataset ----\n",
    "transform = transforms.Compose([\n",
    "    transforms.Resize((IMG_SIZE, IMG_SIZE)),\n",
    "    transforms.ToTensor()\n",
    "])\n",
    "\n",
    "images_np = np.array(df['pixels'])\n",
    "label_np = np.array(df['emotion'])\n",
    "\n",
    "images = []\n",
    "images_raw = []\n",
    "labels = []\n",
    "\n",
    "for i in range(df.shape[0]):\n",
    "    b = bytes(int(p) for p in images_np[i].split())\n",
    "    img = Image.frombuffer('L', (SOURCE_IMG_SIZE, SOURCE_IMG_SIZE), b)\n",
    "    images.append(transform(img))\n",
    "    images_raw.append(img)\n",
    "    labels.append(label_np[i])"
   ]
  },
  {
   "cell_type": "markdown",
   "metadata": {},
   "source": [
    "## Filtering"
   ]
  },
  {
   "cell_type": "code",
   "execution_count": 6,
   "metadata": {},
   "outputs": [],
   "source": [
    "kirsch_compass_masks = [\n",
    "    np.array([[-3,-3,5],[-3,0,5],[-3,-3,5]]),   # north\n",
    "    np.array([[-3,-3,-3],[-3,0,5],[-3,5,5]]),   # north-east\n",
    "    np.array([[-3,-3,-3],[-3,0,-3],[5,5,5]]),   # east\n",
    "    np.array([[-3,-3,-3],[5,0,-3],[5,5,-3]]),   # south-east\n",
    "    # np.array([[5,-3,-3],[5,0,-3],[5,-3,-3]]),   # south\n",
    "    # np.array([[5,5,-3],[5,0,-3],[-3,-3,-3]]),   # south-west \n",
    "    # np.array([[5,5,5],[-3,0,-3],[-3,-3,-3]]),   # west\n",
    "    # np.array([[-3,5,5],[-3,0,5],[-3,-3,-3]]),   # north-west\n",
    "]"
   ]
  },
  {
   "cell_type": "code",
   "execution_count": 7,
   "metadata": {},
   "outputs": [],
   "source": [
    "images_filtered = []\n",
    "\n",
    "transform = transforms.Compose([\n",
    "    transforms.ToTensor()\n",
    "])\n",
    "\n",
    "for i in range(len(images)):\n",
    "    img = images[i].squeeze(0)\n",
    "\n",
    "    filtered = np.zeros_like(img)\n",
    "    for cm in kirsch_compass_masks:\n",
    "        k = ndimage.convolve(img, cm, mode='nearest', cval=0.0)\n",
    "        filtered = np.add(filtered, k)\n",
    "\n",
    "    filtered = transform(filtered)\n",
    "    images_filtered.append(filtered)"
   ]
  },
  {
   "cell_type": "code",
   "execution_count": 8,
   "metadata": {},
   "outputs": [
    {
     "data": {
      "text/plain": [
       "<matplotlib.image.AxesImage at 0x243144bd3a0>"
      ]
     },
     "execution_count": 8,
     "metadata": {},
     "output_type": "execute_result"
    },
    {
     "data": {
      "image/png": "[encoded data removed]",
      "text/plain": [
       "<Figure size 360x360 with 1 Axes>"
      ]
     },
     "metadata": {
      "needs_background": "light"
     },
     "output_type": "display_data"
    }
   ],
   "source": [
    "img = images_filtered[random.randint(0, len(images_filtered)-1)]\n",
    "\n",
    "plt.figure(figsize=(5,5))\n",
    "plt.title('kirsch')\n",
    "plt.axis('off')\n",
    "plt.imshow(img.permute(1,2,0), cmap='gray')"
   ]
  },
  {
   "cell_type": "code",
   "execution_count": 9,
   "metadata": {},
   "outputs": [
    {
     "name": "stdout",
     "output_type": "stream",
     "text": [
      "\u001b[4mclass              #images\u001b[0m\n",
      "neutral               9494\n",
      "happy                 8802\n",
      "surprised             3461\n",
      "sad                   2958\n",
      "angry                 2096\n"
     ]
    }
   ],
   "source": [
    "label_counts = [0]*NUM_CLASSES\n",
    "\n",
    "for i in range(len(labels)):\n",
    "    label_counts[labels[i]] += 1\n",
    "\n",
    "print('\\033[4m{: <15} {: >10}\\033[0m'.format('class', '#images'))\n",
    "for i in range(NUM_CLASSES):\n",
    "    print('{: <15} {: >10}'.format(CLASSES[i], label_counts[i]))"
   ]
  },
  {
   "cell_type": "code",
   "execution_count": 10,
   "metadata": {},
   "outputs": [
    {
     "name": "stdout",
     "output_type": "stream",
     "text": [
      "train length: 21448 (80.0%)\n",
      "test length: 5363 (20.0%)\n"
     ]
    }
   ],
   "source": [
    "train_split_pct = 0.8\n",
    "train_len = int(len(labels) * train_split_pct)\n",
    "\n",
    "train_images = images_filtered[:train_len]\n",
    "train_labels = labels[:train_len]\n",
    "test_images = images_filtered[train_len:]\n",
    "test_labels = labels[train_len:]\n",
    "\n",
    "print(f'train length: {len(train_labels)} ({len(train_labels)*100/len(labels):.1f}%)')\n",
    "print(f'test length: {len(test_labels)} ({len(test_labels)*100/len(labels):.1f}%)')"
   ]
  },
  {
   "cell_type": "code",
   "execution_count": 11,
   "metadata": {},
   "outputs": [
    {
     "name": "stdout",
     "output_type": "stream",
     "text": [
      "get_loader():\n",
      "  class weights: [ 2.848  3.015  7.771  8.963 12.991] \n",
      "\n",
      "get_loader():\n",
      "  class weights: [ 2.732  3.175  7.65   9.492 12.052] \n",
      "\n"
     ]
    }
   ],
   "source": [
    "BATCH_SIZE = 32\n",
    "\n",
    "\n",
    "class CustomDataset(Dataset):\n",
    "    \n",
    "    def __init__(self, images, labels):      \n",
    "        self.images = images\n",
    "        self.labels = labels\n",
    "\n",
    "    def __len__(self):\n",
    "        return len(self.labels)\n",
    "\n",
    "    def __getitem__(self, idx):\n",
    "        return self.images[idx], self.labels[idx]\n",
    "\n",
    "\n",
    "train_dataset = CustomDataset(train_images, train_labels)\n",
    "test_dataset = CustomDataset(test_images, test_labels)\n",
    "\n",
    "\n",
    "def get_loader(dataset):\n",
    "    print('get_loader():')\n",
    "\n",
    "    label_counts = [0]*NUM_CLASSES\n",
    "    for i in range(len(dataset.labels)):\n",
    "        label_counts[dataset.labels[i]] += 1\n",
    "\n",
    "    class_weights = pow(np.array(label_counts) / sum(label_counts), -1)\n",
    "    print('  class weights:', class_weights.round(3), '\\n')\n",
    "\n",
    "    sample_weights = [0]*len(dataset)\n",
    "    for idx, (image, label) in enumerate(dataset):\n",
    "        sample_weights[idx] = class_weights[label]\n",
    "\n",
    "    sampler = WeightedRandomSampler(sample_weights, num_samples=len(sample_weights), replacement=True)\n",
    "    return DataLoader(dataset, BATCH_SIZE, sampler=sampler, shuffle=False)\n",
    "\n",
    "\n",
    "train_loader = get_loader(train_dataset)\n",
    "test_loader = get_loader(test_dataset)"
   ]
  },
  {
   "cell_type": "markdown",
   "metadata": {},
   "source": [
    "-----\n",
    "# SqueezeNet Model"
   ]
  },
  {
   "cell_type": "code",
   "execution_count": 12,
   "metadata": {},
   "outputs": [],
   "source": [
    "import torch.nn.init as init\n",
    "\n",
    "import time\n",
    "\n",
    "from torchvision.utils import _log_api_usage_once\n",
    "\n",
    "# Batch size during training, remember to change the global one as well\n",
    "batch_size = BATCH_SIZE\n",
    "\n",
    "# Number of training epochs\n",
    "num_epochs = 45\n",
    "\n",
    "# Learning rate for optimizers\n",
    "lr = 0.0004"
   ]
  },
  {
   "cell_type": "code",
   "execution_count": 13,
   "metadata": {},
   "outputs": [
    {
     "name": "stdout",
     "output_type": "stream",
     "text": [
      "['neutral', 'happy', 'surprised', 'sad', 'angry']\n"
     ]
    }
   ],
   "source": [
    "# Function for displaying predictions for a few images, in this case 6.\n",
    "#print(test_set[0])\n",
    "\n",
    "class_names = CLASSES\n",
    "print(class_names)\n",
    "\n",
    "def visualize_expression_model(model, num_images=4):\n",
    "    model.eval()\n",
    "    images_so_far = 0\n",
    "    fig = plt.figure()\n",
    "\n",
    "    with torch.no_grad():\n",
    "        for i, (inputs, labels) in enumerate(test_loader):\n",
    "            inputs = inputs.to(device)\n",
    "            labels = labels.to(device)\n",
    "\n",
    "            outputs = model(inputs)\n",
    "            _, preds = torch.max(outputs, 1)\n",
    "\n",
    "            for j in range(inputs.size()[0]):\n",
    "                images_so_far += 1\n",
    "                ax = plt.subplot(num_images//2, 2, images_so_far)\n",
    "                ax.axis('off')\n",
    "                ax.set_title('predicted: {}'.format(class_names[preds[j]]))\n",
    "                plt.imshow(inputs.cpu().data[j].permute(1, 2, 0), cmap=\"gray\")\n",
    "\n",
    "                if images_so_far == num_images:\n",
    "                    return"
   ]
  },
  {
   "cell_type": "code",
   "execution_count": 14,
   "metadata": {},
   "outputs": [],
   "source": [
    "loss_train = []\n",
    "accuracy_train = []\n",
    "\n",
    "def train_expression_model(model, data, criterion, optimizer):\n",
    "    since = time.time()\n",
    "    best_acc = 0.0\n",
    "    model.train()   # Set model to train mode\n",
    "    running_loss = 0.0\n",
    "    running_corrects = 0\n",
    "    \n",
    "    for inputs, labels in data:\n",
    "        inputs = inputs.to(device)\n",
    "        labels = labels.to(device)\n",
    "    \n",
    "        outputs = model(inputs)\n",
    "        _, preds = torch.max(outputs, 1)\n",
    "        loss = criterion(outputs, labels)\n",
    "        \n",
    "        # zero the parameter gradients, and use backpropagatation\n",
    "        optimizer.zero_grad()\n",
    "        loss.backward()\n",
    "        optimizer.step()\n",
    "        \n",
    "        running_loss += loss.item()\n",
    "        running_corrects += torch.sum(preds == labels.data)\n",
    "    \n",
    "    epoch_loss = running_loss / len(train_dataset)\n",
    "    epoch_acc = running_corrects.double() / len(train_dataset)\n",
    "\n",
    "    loss_train.append(epoch_loss)\n",
    "    accuracy_train.append(epoch_acc)\n",
    "\n",
    "    print('train Loss: {:.4f} Acc: {:.4f}'.format(epoch_loss, epoch_acc))"
   ]
  },
  {
   "cell_type": "code",
   "execution_count": 15,
   "metadata": {},
   "outputs": [],
   "source": [
    "loss_test = []\n",
    "accuracy_test = []\n",
    "y_actual = []\n",
    "y_pred = []\n",
    "\n",
    "def test_expression_model(model, data, criterion):\n",
    "    model.eval()   # Set model to evaluate mode\n",
    "    running_loss = 0.0\n",
    "    running_corrects = 0\n",
    "    \n",
    "    for inputs, labels in data:\n",
    "        inputs = inputs.to(device)\n",
    "        labels = labels.to(device)\n",
    "\n",
    "        with torch.no_grad():\n",
    "            predy = model(inputs)\n",
    "\n",
    "        y_actual.extend(labels.cpu())\n",
    "        y_pred.extend(predy.argmax(1).cpu())\n",
    "    \n",
    "        outputs = model(inputs)\n",
    "        _, preds = torch.max(outputs, 1)\n",
    "        loss = criterion(outputs, labels)\n",
    "        \n",
    "        running_loss += loss.item()\n",
    "        running_corrects += torch.sum(preds == labels.data)\n",
    "        \n",
    "    epoch_loss = running_loss / len(test_dataset)\n",
    "    epoch_acc = running_corrects.double() / len(test_dataset)\n",
    "\n",
    "    loss_test.append(epoch_loss)\n",
    "    accuracy_test.append(epoch_acc)\n",
    "\n",
    "    print('test Loss: {:.4f} Acc: {:.4f}'.format(\n",
    "        epoch_loss, epoch_acc))"
   ]
  },
  {
   "cell_type": "code",
   "execution_count": 16,
   "metadata": {},
   "outputs": [],
   "source": [
    "# Pytorch SqueezeNet, https://pytorch.org/vision/0.12/_modules/torchvision/models/squeezenet.html\n",
    "\n",
    "class Fire(nn.Module):\n",
    "    def __init__(self, inplanes: int, squeeze_planes: int, expand1x1_planes: int, expand3x3_planes: int) -> None:\n",
    "        super().__init__()\n",
    "        self.inplanes = inplanes\n",
    "        self.squeeze = nn.Conv2d(inplanes, squeeze_planes, kernel_size=1)\n",
    "        self.squeeze_activation = nn.ReLU(inplace=True)\n",
    "        self.expand1x1 = nn.Conv2d(squeeze_planes, expand1x1_planes, kernel_size=1)\n",
    "        self.expand1x1_activation = nn.ReLU(inplace=True)\n",
    "        self.expand3x3 = nn.Conv2d(squeeze_planes, expand3x3_planes, kernel_size=3, padding=1)\n",
    "        self.expand3x3_activation = nn.ReLU(inplace=True)\n",
    "\n",
    "    def forward(self, x: torch.Tensor) -> torch.Tensor:\n",
    "        x = self.squeeze_activation(self.squeeze(x))\n",
    "        return torch.cat(\n",
    "            [self.expand1x1_activation(self.expand1x1(x)), self.expand3x3_activation(self.expand3x3(x))], 1\n",
    "        )\n",
    "\n",
    "\n",
    "class Facial_Expression_Network_SqueezeNet(nn.Module):\n",
    "    def __init__(self, version: str = \"1_0\", num_classes: int = NUM_CLASSES, dropout: float = 0.5) -> None:\n",
    "        super().__init__()\n",
    "        _log_api_usage_once(self)\n",
    "        self.num_classes = num_classes\n",
    "        if version == \"1_0\": \n",
    "            self.features = nn.Sequential(\n",
    "                nn.Conv2d(1, 96, kernel_size=7, stride=2), # Changed from 3 channels to 1\n",
    "                nn.ReLU(inplace=True),\n",
    "                nn.MaxPool2d(kernel_size=3, stride=2, ceil_mode=True),\n",
    "                Fire(96, 16, 64, 64),\n",
    "                Fire(128, 16, 64, 64),\n",
    "                Fire(128, 32, 128, 128),\n",
    "                nn.MaxPool2d(kernel_size=3, stride=2, ceil_mode=True),\n",
    "                Fire(256, 32, 128, 128),\n",
    "                Fire(256, 48, 192, 192),\n",
    "                Fire(384, 48, 192, 192),\n",
    "                Fire(384, 64, 256, 256),\n",
    "                nn.MaxPool2d(kernel_size=3, stride=2, ceil_mode=True),\n",
    "                Fire(512, 64, 256, 256),\n",
    "            )\n",
    "        elif version == \"1_1\":\n",
    "            self.features = nn.Sequential(\n",
    "                nn.Conv2d(1, 64, kernel_size=3, stride=2), # Changed from 3 channels to 1\n",
    "                nn.ReLU(inplace=True),\n",
    "                nn.MaxPool2d(kernel_size=3, stride=2, ceil_mode=True),\n",
    "                Fire(64, 16, 64, 64),\n",
    "                Fire(128, 16, 64, 64),\n",
    "                nn.MaxPool2d(kernel_size=3, stride=2, ceil_mode=True),\n",
    "                Fire(128, 32, 128, 128),\n",
    "                Fire(256, 32, 128, 128),\n",
    "                nn.MaxPool2d(kernel_size=3, stride=2, ceil_mode=True),\n",
    "                Fire(256, 48, 192, 192),\n",
    "                Fire(384, 48, 192, 192),\n",
    "                Fire(384, 64, 256, 256),\n",
    "                Fire(512, 64, 256, 256),\n",
    "            )\n",
    "        else:\n",
    "            # FIXME: Is this needed? SqueezeNet should only be called from the\n",
    "            # FIXME: squeezenet1_x() functions\n",
    "            # FIXME: This checking is not done for the other models\n",
    "            raise ValueError(f\"Unsupported SqueezeNet version {version}: 1_0 or 1_1 expected\")\n",
    "\n",
    "        # Final convolution is initialized differently from the rest\n",
    "        final_conv = nn.Conv2d(512, self.num_classes, kernel_size=1)\n",
    "        self.classifier = nn.Sequential(\n",
    "            nn.Dropout(p=dropout), final_conv, \n",
    "            nn.ReLU(inplace=True), \n",
    "            nn.AdaptiveAvgPool2d((1, 1))\n",
    "        )\n",
    "\n",
    "        for m in self.modules():\n",
    "            if isinstance(m, nn.Conv2d):\n",
    "                if m is final_conv:\n",
    "                    init.normal_(m.weight, mean=0.0, std=0.01)\n",
    "                else:\n",
    "                    init.kaiming_uniform_(m.weight)\n",
    "                if m.bias is not None:\n",
    "                    init.constant_(m.bias, 0)\n",
    "\n",
    "    def forward(self, x: torch.Tensor) -> torch.Tensor:\n",
    "        x = self.features(x)\n",
    "        x = self.classifier(x)\n",
    "        return torch.flatten(x, 1)"
   ]
  },
  {
   "cell_type": "code",
   "execution_count": 17,
   "metadata": {},
   "outputs": [],
   "source": [
    "expression_model = Facial_Expression_Network_SqueezeNet().to(device)\n",
    "\n",
    "loss_fn = nn.CrossEntropyLoss()\n",
    "\n",
    "optimizer = torch.optim.SGD(expression_model.parameters(), lr=lr, momentum = 0.7)\n",
    "#optimizer = torch.optim.Adam(expression_model.parameters(), lr=lr)\n",
    "\n",
    "# Decay LR by a factor of 0.1 every 1 epochs\n",
    "scheduler = lr_scheduler.StepLR(optimizer, step_size=5, gamma=0.00001)"
   ]
  },
  {
   "cell_type": "code",
   "execution_count": 18,
   "metadata": {},
   "outputs": [
    {
     "name": "stdout",
     "output_type": "stream",
     "text": [
      "Epoch 1/45\n",
      "\n"
     ]
    },
    {
     "name": "stderr",
     "output_type": "stream",
     "text": [
      "c:\\Users\\Ludvi\\AppData\\Local\\Programs\\Python\\Python39\\lib\\site-packages\\torch\\nn\\functional.py:780: UserWarning: Note that order of the arguments: ceil_mode and return_indices will changeto match the args list in nn.MaxPool2d in a future release.\n",
      "  warnings.warn(\"Note that order of the arguments: ceil_mode and return_indices will change\"\n"
     ]
    },
    {
     "name": "stdout",
     "output_type": "stream",
     "text": [
      "train Loss: 0.0504 Acc: 0.2039\n",
      "test Loss: 0.0504 Acc: 0.2010\n",
      "Epoch 2/45\n",
      "\n",
      "train Loss: 0.0504 Acc: 0.2050\n",
      "test Loss: 0.0504 Acc: 0.2107\n",
      "Epoch 3/45\n",
      "\n",
      "train Loss: 0.0503 Acc: 0.2036\n",
      "test Loss: 0.0504 Acc: 0.2094\n",
      "Epoch 4/45\n",
      "\n",
      "train Loss: 0.0503 Acc: 0.2220\n",
      "test Loss: 0.0503 Acc: 0.2239\n",
      "Epoch 5/45\n",
      "\n",
      "train Loss: 0.0498 Acc: 0.2515\n",
      "test Loss: 0.0491 Acc: 0.3092\n",
      "Epoch 6/45\n",
      "\n",
      "train Loss: 0.0474 Acc: 0.3359\n",
      "test Loss: 0.0471 Acc: 0.3353\n",
      "Epoch 7/45\n",
      "\n",
      "train Loss: 0.0437 Acc: 0.4075\n",
      "test Loss: 0.0438 Acc: 0.4208\n",
      "Epoch 8/45\n",
      "\n",
      "train Loss: 0.0405 Acc: 0.4593\n",
      "test Loss: 0.0412 Acc: 0.4524\n",
      "Epoch 9/45\n",
      "\n",
      "train Loss: 0.0384 Acc: 0.4946\n",
      "test Loss: 0.0382 Acc: 0.5152\n",
      "Epoch 10/45\n",
      "\n",
      "train Loss: 0.0361 Acc: 0.5331\n",
      "test Loss: 0.0360 Acc: 0.5471\n",
      "Epoch 11/45\n",
      "\n",
      "train Loss: 0.0343 Acc: 0.5596\n",
      "test Loss: 0.0368 Acc: 0.5340\n",
      "Epoch 12/45\n",
      "\n",
      "train Loss: 0.0326 Acc: 0.5841\n",
      "test Loss: 0.0395 Acc: 0.5077\n",
      "Epoch 13/45\n",
      "\n",
      "train Loss: 0.0312 Acc: 0.6019\n",
      "test Loss: 0.0370 Acc: 0.5387\n",
      "Epoch 14/45\n",
      "\n",
      "train Loss: 0.0301 Acc: 0.6217\n",
      "test Loss: 0.0343 Acc: 0.5778\n",
      "Epoch 15/45\n",
      "\n",
      "train Loss: 0.0285 Acc: 0.6433\n",
      "test Loss: 0.0348 Acc: 0.5668\n",
      "Epoch 16/45\n",
      "\n",
      "train Loss: 0.0271 Acc: 0.6617\n",
      "test Loss: 0.0329 Acc: 0.5987\n",
      "Epoch 17/45\n",
      "\n",
      "train Loss: 0.0261 Acc: 0.6803\n",
      "test Loss: 0.0328 Acc: 0.6135\n",
      "Epoch 18/45\n",
      "\n",
      "train Loss: 0.0251 Acc: 0.6873\n",
      "test Loss: 0.0325 Acc: 0.6086\n",
      "Epoch 19/45\n",
      "\n",
      "train Loss: 0.0244 Acc: 0.7021\n",
      "test Loss: 0.0342 Acc: 0.6131\n",
      "Epoch 20/45\n",
      "\n",
      "train Loss: 0.0240 Acc: 0.7046\n",
      "test Loss: 0.0335 Acc: 0.6071\n",
      "Epoch 21/45\n",
      "\n",
      "train Loss: 0.0226 Acc: 0.7199\n",
      "test Loss: 0.0337 Acc: 0.6146\n",
      "Epoch 22/45\n",
      "\n",
      "train Loss: 0.0215 Acc: 0.7360\n",
      "test Loss: 0.0307 Acc: 0.6563\n",
      "Epoch 23/45\n",
      "\n",
      "train Loss: 0.0209 Acc: 0.7446\n",
      "test Loss: 0.0321 Acc: 0.6325\n",
      "Epoch 24/45\n",
      "\n",
      "train Loss: 0.0200 Acc: 0.7548\n",
      "test Loss: 0.0407 Acc: 0.5786\n",
      "Epoch 25/45\n",
      "\n",
      "train Loss: 0.0192 Acc: 0.7609\n",
      "test Loss: 0.0333 Acc: 0.6286\n",
      "Epoch 26/45\n",
      "\n",
      "train Loss: 0.0186 Acc: 0.7744\n",
      "test Loss: 0.0328 Acc: 0.6381\n",
      "Epoch 27/45\n",
      "\n",
      "train Loss: 0.0176 Acc: 0.7825\n",
      "test Loss: 0.0346 Acc: 0.6248\n",
      "Epoch 28/45\n",
      "\n",
      "train Loss: 0.0174 Acc: 0.7872\n",
      "test Loss: 0.0311 Acc: 0.6578\n",
      "Epoch 29/45\n",
      "\n",
      "train Loss: 0.0165 Acc: 0.8011\n",
      "test Loss: 0.0346 Acc: 0.6606\n",
      "Epoch 30/45\n",
      "\n",
      "train Loss: 0.0159 Acc: 0.8092\n",
      "test Loss: 0.0344 Acc: 0.6554\n",
      "Epoch 31/45\n",
      "\n",
      "train Loss: 0.0150 Acc: 0.8154\n",
      "test Loss: 0.0382 Acc: 0.6336\n",
      "Epoch 32/45\n",
      "\n",
      "train Loss: 0.0147 Acc: 0.8232\n",
      "test Loss: 0.0364 Acc: 0.6573\n",
      "Epoch 33/45\n",
      "\n",
      "train Loss: 0.0144 Acc: 0.8270\n",
      "test Loss: 0.0364 Acc: 0.6670\n",
      "Epoch 34/45\n",
      "\n",
      "train Loss: 0.0139 Acc: 0.8295\n",
      "test Loss: 0.0345 Acc: 0.6565\n",
      "Epoch 35/45\n",
      "\n",
      "train Loss: 0.0136 Acc: 0.8361\n",
      "test Loss: 0.0482 Acc: 0.6095\n",
      "Epoch 36/45\n",
      "\n",
      "train Loss: 0.0129 Acc: 0.8446\n",
      "test Loss: 0.0359 Acc: 0.6694\n",
      "Epoch 37/45\n",
      "\n",
      "train Loss: 0.0127 Acc: 0.8479\n",
      "test Loss: 0.0458 Acc: 0.6273\n",
      "Epoch 38/45\n",
      "\n",
      "train Loss: 0.0130 Acc: 0.8428\n",
      "test Loss: 0.0428 Acc: 0.6388\n",
      "Epoch 39/45\n",
      "\n",
      "train Loss: 0.0118 Acc: 0.8573\n",
      "test Loss: 0.0385 Acc: 0.6728\n",
      "Epoch 40/45\n",
      "\n",
      "train Loss: 0.0118 Acc: 0.8577\n",
      "test Loss: 0.0414 Acc: 0.6642\n",
      "Epoch 41/45\n",
      "\n",
      "train Loss: 0.0114 Acc: 0.8647\n",
      "test Loss: 0.0435 Acc: 0.6662\n",
      "Epoch 42/45\n",
      "\n",
      "train Loss: 0.0107 Acc: 0.8727\n",
      "test Loss: 0.0438 Acc: 0.6461\n",
      "Epoch 43/45\n",
      "\n",
      "train Loss: 0.0101 Acc: 0.8771\n",
      "test Loss: 0.0397 Acc: 0.6694\n",
      "Epoch 44/45\n",
      "\n",
      "train Loss: 0.0101 Acc: 0.8794\n",
      "test Loss: 0.0441 Acc: 0.6754\n",
      "Epoch 45/45\n",
      "\n",
      "train Loss: 0.0101 Acc: 0.8806\n",
      "test Loss: 0.0415 Acc: 0.6591\n"
     ]
    }
   ],
   "source": [
    "for epoch in range(1, (num_epochs+1)):\n",
    "    print('Epoch {}/{}'.format(epoch, num_epochs))\n",
    "    print()\n",
    "    train_expression_model(expression_model, train_loader, loss_fn, optimizer)\n",
    "    test_expression_model(expression_model, test_loader, loss_fn)\n",
    "    #scheduler.step"
   ]
  },
  {
   "cell_type": "code",
   "execution_count": 19,
   "metadata": {},
   "outputs": [
    {
     "data": {
      "image/png": "[encoded data removed]",
      "text/plain": [
       "<Figure size 504x360 with 1 Axes>"
      ]
     },
     "metadata": {
      "needs_background": "light"
     },
     "output_type": "display_data"
    },
    {
     "data": {
      "image/png": "[encoded data removed]",
      "text/plain": [
       "<Figure size 504x360 with 1 Axes>"
      ]
     },
     "metadata": {
      "needs_background": "light"
     },
     "output_type": "display_data"
    }
   ],
   "source": [
    "def plot_metric(train, test, metric, title):\n",
    "    plt.figure(figsize = (7, 5))\n",
    "\n",
    "    train = torch.tensor(train, device='cpu')\n",
    "    test = torch.tensor(test, device='cpu')\n",
    "\n",
    "    with torch.no_grad():\n",
    "        plt.plot(range(len(train)), train, label = \"train\")\n",
    "        plt.plot(range(len(test)), test, label = \"test\")\n",
    "    plt.title(title)\n",
    "    plt.xlabel('epoch')\n",
    "    plt.ylabel(metric)\n",
    "    plt.legend()\n",
    "\n",
    "    # plt.savefig(f'{title}.png')\n",
    "    plt.show()\n",
    "\n",
    "\n",
    "plot_metric(loss_train, loss_test, 'loss', 'VGG - loss')\n",
    "plot_metric(accuracy_train, accuracy_test, 'accuracy', 'VGG - accuracy')"
   ]
  },
  {
   "cell_type": "code",
   "execution_count": 20,
   "metadata": {},
   "outputs": [
    {
     "data": {
      "text/plain": [
       "Text(87.0, 0.5, 'Actual')"
      ]
     },
     "execution_count": 20,
     "metadata": {},
     "output_type": "execute_result"
    },
    {
     "data": {
      "image/png": "[encoded data removed]",
      "text/plain": [
       "<Figure size 864x504 with 2 Axes>"
      ]
     },
     "metadata": {
      "needs_background": "light"
     },
     "output_type": "display_data"
    }
   ],
   "source": [
    "from sklearn.metrics import confusion_matrix\n",
    "import seaborn as sns\n",
    "import pandas as pd\n",
    "\n",
    "\n",
    "counts = np.array([(np.array(y_actual) == i).sum() for i in range(NUM_CLASSES)]).reshape(-1, 1)\n",
    "cf_matrix = confusion_matrix(y_actual, y_pred)\n",
    "cf_matrix_norm = cf_matrix / counts\n",
    "\n",
    "df_cm = pd.DataFrame(cf_matrix_norm, index = CLASSES, columns = CLASSES)\n",
    "plt.figure(figsize = (12,7))\n",
    "s = sns.heatmap(df_cm, annot=True, cmap=sns.color_palette(\"rocket\", as_cmap=True), vmin=0, vmax=1)\n",
    "s.set_xlabel('Predicted', fontsize=14)\n",
    "s.set_ylabel('Actual', fontsize=14)\n",
    "\n",
    "# plt.savefig('confusion_matrix.png')"
   ]
  },
  {
   "cell_type": "markdown",
   "metadata": {},
   "source": [
    "##### End of VGG model\n",
    "-----"
   ]
  }
 ],
 "metadata": {
  "interpreter": {
   "hash": "462459bc3e617147c8cffc282d893ee434b18ff4bde70f08c233dfc73bb28fd6"
  },
  "kernelspec": {
   "display_name": "Python 3.9.6 64-bit",
   "language": "python",
   "name": "python3"
  },
  "language_info": {
   "codemirror_mode": {
    "name": "ipython",
    "version": 3
   },
   "file_extension": ".py",
   "mimetype": "text/x-python",
   "name": "python",
   "nbconvert_exporter": "python",
   "pygments_lexer": "ipython3",
   "version": "3.9.6"
  },
  "orig_nbformat": 4
 },
 "nbformat": 4,
 "nbformat_minor": 2
}
